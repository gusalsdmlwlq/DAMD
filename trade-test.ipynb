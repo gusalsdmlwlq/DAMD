{
 "cells": [
  {
   "cell_type": "code",
   "execution_count": 16,
   "metadata": {},
   "outputs": [],
   "source": [
    "import torch.nn as nn\n",
    "import torch\n",
    "import numpy as np"
   ]
  },
  {
   "cell_type": "code",
   "execution_count": 2,
   "metadata": {},
   "outputs": [],
   "source": [
    "arr = torch.rand((2,10))"
   ]
  },
  {
   "cell_type": "code",
   "execution_count": 3,
   "metadata": {},
   "outputs": [
    {
     "data": {
      "text/plain": [
       "tensor([[0.9469, 0.6159, 0.0151, 0.2791, 0.1305, 0.1580, 0.7470, 0.3307, 0.2853,\n",
       "         0.5119],\n",
       "        [0.3731, 0.5165, 0.3065, 0.4116, 0.2944, 0.3229, 0.4055, 0.4240, 0.2926,\n",
       "         0.2596]])"
      ]
     },
     "execution_count": 3,
     "metadata": {},
     "output_type": "execute_result"
    }
   ],
   "source": [
    "arr"
   ]
  },
  {
   "cell_type": "code",
   "execution_count": 4,
   "metadata": {},
   "outputs": [],
   "source": [
    "mask = (arr<0.5)"
   ]
  },
  {
   "cell_type": "code",
   "execution_count": 5,
   "metadata": {},
   "outputs": [
    {
     "data": {
      "text/plain": [
       "tensor([[False, False,  True,  True,  True,  True, False,  True,  True, False],\n",
       "        [ True, False,  True,  True,  True,  True,  True,  True,  True,  True]])"
      ]
     },
     "execution_count": 5,
     "metadata": {},
     "output_type": "execute_result"
    }
   ],
   "source": [
    "mask"
   ]
  },
  {
   "cell_type": "code",
   "execution_count": 6,
   "metadata": {},
   "outputs": [
    {
     "data": {
      "text/plain": [
       "tensor([[0.9469, 0.6159,   -inf,   -inf,   -inf,   -inf, 0.7470,   -inf,   -inf,\n",
       "         0.5119],\n",
       "        [  -inf, 0.5165,   -inf,   -inf,   -inf,   -inf,   -inf,   -inf,   -inf,\n",
       "           -inf]])"
      ]
     },
     "execution_count": 6,
     "metadata": {},
     "output_type": "execute_result"
    }
   ],
   "source": [
    "arr.masked_fill(mask,-float(\"inf\"))"
   ]
  },
  {
   "cell_type": "code",
   "execution_count": 7,
   "metadata": {},
   "outputs": [],
   "source": [
    "import json"
   ]
  },
  {
   "cell_type": "code",
   "execution_count": 17,
   "metadata": {},
   "outputs": [],
   "source": [
    "with open(\"data/multi-woz-processed/data_for_damd.json\") as f:\n",
    "    data = json.load(f)"
   ]
  },
  {
   "cell_type": "code",
   "execution_count": 18,
   "metadata": {},
   "outputs": [],
   "source": [
    "for dial_num, dial in data.items():\n",
    "    for turn in dial[\"log\"]:\n",
    "        ptr_label = turn[\"ptr_label\"].split(\",\")\n",
    "        if len(ptr_label) > 31:\n",
    "            print(dial_num, turn[\"turn_num\"])"
   ]
  },
  {
   "cell_type": "code",
   "execution_count": 19,
   "metadata": {},
   "outputs": [],
   "source": [
    "with open(\"data/multi-woz-processed/vocab.word2idx.json\") as f:\n",
    "    vocab = json.load(f)"
   ]
  },
  {
   "cell_type": "code",
   "execution_count": 22,
   "metadata": {},
   "outputs": [
    {
     "name": "stdout",
     "output_type": "stream",
     "text": [
      "pmul0741-18:23\n",
      "pmul3863-02:45.\n",
      "sng01940-mic\n",
      "pmul0085-ital\n",
      "pmul4459-18:06\n",
      "pmul4459-18:06\n",
      "sng01775-300\n",
      "pmul3011-molecular gastonomy\n",
      "pmul0735-1545\n",
      "pmul0735-1545\n",
      "sng01396-uro\n",
      "sng0749-cott\n",
      "sng0749-cott\n",
      "pmul3465-duxford\n",
      "sng02087-gener\n",
      "sng0252-09:06\n",
      "sng0252-07:21\n",
      "sng0252-09:06\n",
      "sng0252-07:21\n",
      "mul2451-clu\n",
      "mul2451-clu\n",
      "pmul1714-lon\n",
      "mul2467-20.00\n",
      "mul2467-20.00\n",
      "mul2196-20:36\n",
      "mul2196-20:36\n",
      "pmul3227-corpus cristi\n",
      "sng01180-23:27\n",
      "pmul0619-not mentionedc\n",
      "pmul0810-19:57\n",
      "pmul0810-19:57\n",
      "mul1925-bo\n",
      "pmul1849-08:44\n",
      "pmul1849-08:44\n",
      "sng02014-cas\n",
      "sng02014-cas\n",
      "mul2291-huntingd\n",
      "mul2523-autu\n",
      "pmul2527-lens\n",
      "pmul2527-lens\n",
      "pmul0944-seasame restaurant and bar\n",
      "pmul2173-garde\n",
      "pmul3129-16.30\n",
      "pmul2562-grou\n",
      "mul2626-wankworth hotel\n",
      "mul2626-wankworth hotel\n",
      "pmul2787-caridge belfrey\n",
      "pmul2787-caridge belfrey\n",
      "pmul2787-caridge belfrey\n",
      "pmul2787-caridge belfrey\n",
      "sng0579-kor\n",
      "mul2592-g\n",
      "mul1309-finders corner newmarket road\n",
      "mul1309-finders corner newmarket road\n",
      "mul1309-172 chestertown road\n",
      "mul1309-finders corner newmarket road\n",
      "mul1309-finders corner newmarket road\n",
      "mul1309-172 chestertown road\n",
      "pmul3673-bro\n",
      "mul2497-gastro pub\n",
      "mul2497-gastro pub\n",
      "sng01658-05:17\n",
      "sng01658-05:17\n",
      "mul2288-10:34\n",
      "mul0734-12:06\n",
      "pmul0214-citiroomz\n",
      "pmul0214-citiroomz\n",
      "sng1298-not meavalonntioned\n",
      "sng1298-not meavalonntioned\n",
      "mul2139-17:23\n",
      "mul2139-17:23\n",
      "pmul0979-11:50\n",
      "pmul0979-11:50\n",
      "mul0097-21:4\n",
      "mul0097-21:4\n",
      "mul0551-19:27\n",
      "mul0551-19:27\n",
      "pmul0746-1100\n",
      "pmul0746-1100\n",
      "pmul4757-alpha-milton\n",
      "pmul2822-theathre\n",
      "pmul2822-theathre\n",
      "pmul2669-cambridge artw2orks\n",
      "pmul2669-cambridge artw2orks\n",
      "pmul1238-13:32\n",
      "pmul1238-12:32\n",
      "pmul1238-13:32\n",
      "pmul1238-12:32\n"
     ]
    }
   ],
   "source": [
    "for dial_num, dial in data.items():\n",
    "    for turn in dial[\"log\"]:\n",
    "        ptr_label = turn[\"ptr_label\"].split(\",\")\n",
    "        for label in ptr_label:\n",
    "            for word in label.split():\n",
    "                if vocab[word] >= 3000:\n",
    "                    print(\"{}-{}\".format(dial_num, label))"
   ]
  },
  {
   "cell_type": "code",
   "execution_count": null,
   "metadata": {},
   "outputs": [],
   "source": []
  }
 ],
 "metadata": {
  "kernelspec": {
   "display_name": "Python 3",
   "language": "python",
   "name": "python3"
  },
  "language_info": {
   "codemirror_mode": {
    "name": "ipython",
    "version": 3
   },
   "file_extension": ".py",
   "mimetype": "text/x-python",
   "name": "python",
   "nbconvert_exporter": "python",
   "pygments_lexer": "ipython3",
   "version": "3.6.10"
  }
 },
 "nbformat": 4,
 "nbformat_minor": 4
}
